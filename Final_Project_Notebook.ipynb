{
 "cells": [
  {
   "cell_type": "markdown",
   "metadata": {},
   "source": [
    "## Project Description\n",
    "On campus, we're constantly surrounded by options when it comes to dining, and more often than not, the choice takes more time than we intend. On top of that, those who have dietary restrictions have a harder time as UC San Diego does not have a comprehensive list of the different restaurants and vendors that offer food/drinks for those who have certain restrictions. For my project, I chose to create a food generator that asks questions and narrows down your options according to which dietary restriction you may have. It also provides a short description of what type of food the place offers and highlights certain items that may interest those with certain dietary restrictions.\n",
    "\n",
    "Before this class, I had never looked at any sort of coding before, coming in with absolutely no knowledge. As I get a lot of joy out of great food, I thought this was a good way to solve a daily problem and keep it to a topic I enjoy (food!)."
   ]
  },
  {
   "cell_type": "code",
   "execution_count": 1,
   "metadata": {},
   "outputs": [],
   "source": [
    "import random\n",
    "from food_module import food_type\n",
    "from food_module import dietary_restriction\n",
    "from food_module import final_rec"
   ]
  },
  {
   "cell_type": "code",
   "execution_count": 2,
   "metadata": {},
   "outputs": [
    {
     "name": "stdout",
     "output_type": "stream",
     "text": [
      "Let's find something for you to eat today!\n",
      "Please enter what type of food you would like to eat from the three options of \"snack\", \"meal\" or \"drink\": meal\n"
     ]
    }
   ],
   "source": [
    "#Asks the user a question in a friendly interactive manner.\n",
    "user_input = input('Let\\'s find something for you to eat today!\\nPlease enter what type of food you ' \\\n",
    "                    'would like to eat from the three options of \"snack\", \"meal\" or \"drink\": ')\n",
    "\n",
    "#To check that the user put one of the possible categories. If they did not, it will loop back with the options.\n",
    "while True:\n",
    "    if str.lower(user_input) in ('snack','meal','drink'):\n",
    "        break\n",
    "    else:\n",
    "        user_input = input(\"Sorry, we don't have that option. Please start over and choose one of the \" \\\n",
    "                           \"available options. \")\n",
    "    \n",
    "#A call on the method asking what category of food they would like.        \n",
    "type_of_food = food_type(str.lower(user_input))"
   ]
  },
  {
   "cell_type": "code",
   "execution_count": 3,
   "metadata": {},
   "outputs": [
    {
     "name": "stdout",
     "output_type": "stream",
     "text": [
      "Thank you for choosing a type of food!\n",
      "Our next question is, do you happen to be vegetarian, vegan, gluten free or have a peanut allergy?\n",
      "If so, please type 'vegetarian', 'vegan', 'gluten free' or 'peanut allergy'. If not, please type 'none': vegan\n"
     ]
    }
   ],
   "source": [
    "#Asks the user in an interactive way about their dietary restrictions.\n",
    "user_input = input(\"Thank you for choosing a type of food!\\nOur next question is, do you happen to be \" \\\n",
    "                   \"vegetarian, vegan, gluten free or have a peanut allergy?\\nIf so, please type 'vegetarian',\" \\\n",
    "                   \" 'vegan', 'gluten free' or 'peanut allergy'. If not, please type 'none': \")\n",
    "\n",
    "#Double checks to make sure the user entered a possible option. If they did not, it asks them again.\n",
    "while True:\n",
    "    if str.lower(user_input) in ('vegetarian','vegan','gluten free', 'peanut allergy', 'none'):\n",
    "        \n",
    "        break\n",
    "        \n",
    "    else:\n",
    "        user_input = input(\"Sorry, we could not recognize what you said or currently do not have a \" \\\n",
    "                           \"comprehensive list for that dietary restriction. Please select one of the \" \\\n",
    "                           \"available options previously mentioned. \")\n",
    "        \n",
    "#Call on the method dietary_restriction\n",
    "restrictions = dietary_restriction(user_input, type_of_food)"
   ]
  },
  {
   "cell_type": "code",
   "execution_count": 4,
   "metadata": {},
   "outputs": [],
   "source": [
    "food_descriptions = {'Bombay Coast' : 'Our recommendation is Bombay Coast. This restaurant offers Indian cuisine and' \\\n",
    "                'has a variety of vegetarian, gluten free and peanut free options. Similar to many ' \\\n",
    "                'restaurants with a shared kitchen, there is a chance of cross contamination of allergens.' ,\n",
    "                'Burger King' : 'Our recommendation is Burger King. This restaurant offers affordable and quick food, ' \\\n",
    "                'accommodating many dietary restrictions. In particular, Burger King now has the Impossible ' \\\n",
    "                'Burger, which offers a vegetarian option as well as a vegan one if the mayonnaise is ' \\\n",
    "                'replaced with BBQ sauce and there is no cheese. Popular snacks include onion rings, french ' \\\n",
    "                'fries and chicken fries. Similar to many restaurants with a shared kitchen, there is a ' \\\n",
    "                'chance of cross contamination of allergens.', \n",
    "                'The Loft' : 'Our recommendation is The Loft. This hole in the wall spot offers entertainment with ' \\\n",
    "                'frequent live performances and a variety of sandwiches, burgers, pizzas and more! They ' \\\n",
    "                'have many drinks varying from alcoholic beverages such as beer and mimosas to refreshing ' \\\n",
    "                'ones like lemonade. Similar to many restaurants with a shared kitchen, there is a chance ' \\\n",
    "                'of cross contamination of allergens.' ,\n",
    "                'Jamba Juice' : 'Our recommendation is Jamba Juice. With a variety of different smoothies, ' \\\n",
    "                'acai bowls and snacks such as sweet waffles, Jamba Juice makes for a great pick-me-up ' \\\n",
    "                'during the day! They have a variety of milk alternatives such as soy milk or oat milk and ' \\\n",
    "                'have many supplements you can add to their smoothies. Similar to many restaurants with a ' \\\n",
    "                'shared kitchen, there is a chance of cross contamination of allergens.',\n",
    "                'Lemongrass' : 'Our recommendation is Lemongrass. This restaurant offers a taste of Thai cuisine, ' \\\n",
    "                'famous for their peanut sauce. Gluten free options include their salmon plate and a ' \\\n",
    "                'delicious vegan option is their Pad Thai with tofu. The Thai tea is one of the best on ' \\\n",
    "                'campus, making for a refreshing treat! Similar to many restaurants with a shared kitchen, ' \\\n",
    "                'there is a chance of cross contamination of allergens.', \n",
    "                'Panda Express' : 'Our recommendation is Panda Express. This restaurant offers a variety of ' \\\n",
    "                'different sides, from beef and broccoli to honey walnut shrimp, to pair with their rice and/or ' \\\n",
    "                'chow mein. Healthier options are also available with their teryaki chicken and side of vegetables! ' \\\n",
    "                'Similar to many restaurants with a shared kitchen, there is a chance of cross contamination ' \\\n",
    "                'of allergens.', \n",
    "                'Rubios' : 'Our recommendation is Rubios. This restaurant offers a variety of proteins from the ' \\\n",
    "                'land to the sea and any protein can be replaced with grilled vegetables to make it vegetarian or ' \\\n",
    "                'vegan. Several of the options, such as the bowls or tacos, are also gluten free. Similar to ' \\\n",
    "                'many restaurants with a shared kitchen, there is a chance of cross contamination of allergens.', \n",
    "                'Santorini' : 'Our recommendation is Santorini. This restaurant offers a taste of the ' \\\n",
    "                'Mediterranean, with a variety of proteins from gyros to chorizo. They are quite famous for ' \\\n",
    "                'their Loaded Fries,which are gluten free, and many salad options. If on campus early in the ' \\\n",
    "                'morning, don\\'t worry! They have a full breakfast menu from 7:30AM to 11:30AM. Similar to many ' \\\n",
    "                'restaurants with a shared kitchen, there is a chance of cross contamination of allergens.', \n",
    "                'Seed + Sprout' : 'Our recommendation is Seed + Sprout. This newer restaurant offers fresh ' \\\n",
    "                'food with healthier options, loaded with vegetables and full of flavor. ' \\\n",
    "                'The \\'Choose your own bowl\\' style menu allows for flexible choices with most dietary ' \\\n",
    "                'restrictions. They also feature a great breakfast menu, with one of their most popular ' \\\n",
    "                'items the Loco Moco. Similar to many restaurants with a shared kitchen, there is a ' \\\n",
    "                'chance of cross contamination of allergens.',\n",
    "                'Shogun' : 'Our recommendation is Shogun. This restaurant offers a variety of Asian cuisine, ' \\\n",
    "                'from chicken curry katsu to a full sushi menu with more than plenty of options to browse. ' \\\n",
    "                'Not only that, but it\\'s a great place for entertainment with their pool tables open for ' \\\n",
    "                'students to use. Similar to many restaurants with a shared kitchen, there is a chance of ' \\\n",
    "                'cross contamination of allergens.', \n",
    "                'Starbucks' : 'Our recommendation is Starbucks. Famous for their various drinks from coffee to ' \\\n",
    "                'tea to their very own Refreshers, Starbucks offers a variety of different choices. They also ' \\\n",
    "                'have a great bakery selection with breakfast sandwiches, cake pops, baked goods, paninis ' \\\n",
    "                'and more to choose from. Similar to many restaurants with a shared kitchen, there is a ' \\\n",
    "                'chance of cross contamination of allergens.',\n",
    "                'Subway' : 'Our recommendation is Subway. Famous for allowing customers to customize their ' \\\n",
    "                'sandwiches, Subway offers several toppings, proteins, sauces and more to fit many dietary ' \\\n",
    "                'restrictions. They also offer sweet treats like freshly baked cookies and salty snacks such ' \\\n",
    "                'as chips to go with your sandwich.\\nSimilar to many restaurants with a shared kitchen, ' \\\n",
    "                'there is a chance of cross contamination of allergens.',\n",
    "                'Sunshine' : 'Our recommendation is Sunshine Market. This market is not only conveniently ' \\\n",
    "                'located in the center of campus but offers a variety of snacks and necessities, from chips ' \\\n",
    "                'to drinks to Brown Bag Sandwiches to fit everyone\\'s needs.\\nTheir office is also working ' \\\n",
    "                'with The Hub to get EBT accepted to become more accessible to the student population.',\n",
    "                'Su Pan Bakery' : 'Our recommendation is Su Pan Bakery, hidden behind Burger King. This ' \\\n",
    "                'small and relatively new Mexican bakery offers sweet treats and filling desserts to snack ' \\\n",
    "                'on throughout the day, from pastries all the way to whole cakes and pies that can be purchased. ' \\\n",
    "                'With how hard you work, you deserve to treat yourself!',\n",
    "                'Tapioca Express' : 'Our recommendation is Tapioca Express. Known for being the boba hotspot ' \\\n",
    "                'on campus, Tapioca Express, TapEx for short, offers refreshing beverages along with popular snacks ' \\\n",
    "                'such as popcorn chicken. Their vast drink menu offers many options to browse and even have ' \\\n",
    "                'specials on different days of the week! Similar to many restaurants with a shared kitchen, ' \\\n",
    "                'there is a chance of cross contamination of allergens.', \n",
    "                'Croutons' : 'Our recommendation is Croutons. Famous for their salads, sandwiches and soups, ' \\\n",
    "                'Croutons is a great spot to grab lunch, especially their popular two item combo. Their hours ' \\\n",
    "                'are limited as they\\'re open 10AM-3PM, but many options can be turned vegan or gluten free ' \\\n",
    "                'by asking to remove the cheese or croutons. Similar to many restaurants with a shared kitchen, ' \\\n",
    "                'there is a chance of cross contamination of allergens.',\n",
    "                'Yogurt World' : 'Our recommendation is Yogurt World. As the on campus fro-yo spot, ' \\\n",
    "                'Yogurt World offers many flavors as well as topping to choose from. It makes for a great ' \\\n",
    "                'pick-me-up snack, and look out for their color changing spoons! Similar to many restaurants ' \\\n",
    "                'with a shared kitchen, there is a chance of cross contamination of allergens.',\n",
    "                'Blue Pepper' : 'Our recommendation is Blue Pepper. This restaurant offers a taste of ' \\\n",
    "                'Thai food, serving many different foods from noodles to rice to several curries, allowing ' \\\n",
    "                'for customers to choose depending on what catches their eyes. They also offer many desserts, ' \\\n",
    "                'from boba to mango sticky rice! Similar to many restaurants with a shared kitchen, there is a ' \\\n",
    "                'chance of cross contamination of allergens.',\n",
    "                'Soda & Swine' : 'Our recommendation is Soda & Swine. As the newest dining spot on campus ' \\\n",
    "                'with a beautiful aesthetic, it can be tricky finding seats at this packed place! Famous ' \\\n",
    "                'for their sliders, which have vegan options included, Soda & Swine offers a taste casual ' \\\n",
    "                'food that\\'s been elevated. They also offer a variety of beers to choose from! Similar to ' \\\n",
    "                'many restaurants with a shared kitchen, there is a chance of cross contamination of allergens.',\n",
    "                'Taco Villa' : 'Our recommendation is Taco Villa. This restaurant offers a variety of tacos, ' \\\n",
    "                'burritos and bowls, allowing for customers to choose flexibly. Their bowls are gluten free and ' \\\n",
    "                'the protein can be replaced with vegetables to make for vegetarian and vegan options and offer ' \\\n",
    "                'drinks such as horchata on their menu. Similar to many restaurants with a shared kitchen, ' \\\n",
    "                'there is a chance of cross contamination of allergens.'}"
   ]
  },
  {
   "cell_type": "code",
   "execution_count": 5,
   "metadata": {},
   "outputs": [
    {
     "data": {
      "text/plain": [
       "\"Our recommendation is Soda & Swine. As the newest dining spot on campus with a beautiful aesthetic, it can be tricky finding seats at this packed place! Famous for their sliders, which have vegan options included, Soda & Swine offers a taste casual food that's been elevated. They also offer a variety of beers to choose from! Similar to many restaurants with a shared kitchen, there is a chance of cross contamination of allergens.\""
      ]
     },
     "execution_count": 5,
     "metadata": {},
     "output_type": "execute_result"
    }
   ],
   "source": [
    "final_rec(restrictions)"
   ]
  },
  {
   "cell_type": "code",
   "execution_count": null,
   "metadata": {},
   "outputs": [
    {
     "name": "stdout",
     "output_type": "stream",
     "text": [
      "Thank you for using our service! If you're not satisfied with your choice, would you like to choose a new one? If so, type 'yes'. If no, type 'no': yes\n",
      "Our recommendation is Seed + Sprout. This newer restaurant offers fresh food with healthier options, loaded with vegetables and full of flavor. The 'Choose your own bowl' style menu allows for flexible choices with most dietary restrictions. They also feature a great breakfast menu, with one of their most popular items the Loco Moco. Similar to many restaurants with a shared kitchen, there is a chance of cross contamination of allergens.\n",
      "Thank you for using our service! If you're not satisfied with your choice, would you like to choose a new one? If so, type 'yes'. If no, type 'no': yes\n",
      "Our recommendation is Blue Pepper. This restaurant offers a taste of Thai food, serving many different foods from noodles to rice to several curries, allowing for customers to choose depending on what catches their eyes. They also offer many desserts, from boba to mango sticky rice! Similar to many restaurants with a shared kitchen, there is a chance of cross contamination of allergens.\n",
      "Thank you for using our service! If you're not satisfied with your choice, would you like to choose a new one? If so, type 'yes'. If no, type 'no': yes\n",
      "Our recommendation is Blue Pepper. This restaurant offers a taste of Thai food, serving many different foods from noodles to rice to several curries, allowing for customers to choose depending on what catches their eyes. They also offer many desserts, from boba to mango sticky rice! Similar to many restaurants with a shared kitchen, there is a chance of cross contamination of allergens.\n",
      "Thank you for using our service! If you're not satisfied with your choice, would you like to choose a new one? If so, type 'yes'. If no, type 'no': yes\n",
      "Our recommendation is Burger King. This restaurant offers affordable and quick food, accommodating many dietary restrictions. In particular, Burger King now has the Impossible Burger, which offers a vegetarian option as well as a vegan one if the mayonnaise is replaced with BBQ sauce and there is no cheese. Popular snacks include onion rings, french fries and chicken fries. Similar to many restaurants with a shared kitchen, there is a chance of cross contamination of allergens.\n",
      "Thank you for using our service! If you're not satisfied with your choice, would you like to choose a new one? If so, type 'yes'. If no, type 'no': yes\n",
      "Our recommendation is Lemongrass. This restaurant offers a taste of Thai cuisine, famous for their peanut sauce. Gluten free options include their salmon plate and a delicious vegan option is their Pad Thai with tofu. The Thai tea is one of the best on campus, making for a refreshing treat! Similar to many restaurants with a shared kitchen, there is a chance of cross contamination of allergens.\n",
      "Thank you for using our service! If you're not satisfied with your choice, would you like to choose a new one? If so, type 'yes'. If no, type 'no': yes\n",
      "Our recommendation is Taco Villa. This restaurant offers a variety of tacos, burritos and bowls, allowing for customers to choose flexibly. Their bowls are gluten free and the protein can be replaced with vegetables to make for vegetarian and vegan options and offer drinks such as horchata on their menu. Similar to many restaurants with a shared kitchen, there is a chance of cross contamination of allergens.\n"
     ]
    }
   ],
   "source": [
    "#Checks the satisfaction of the user. If they like the choice, it stops, but if not, loops through again.\n",
    "user_input = input(\"Thank you for using our service! If you're not satisfied with your choice, \" \\\n",
    "               \"would you like to choose a new one? If so, type 'yes'. If no, type 'no': \")\n",
    "while True:\n",
    "\n",
    "    if str.lower(user_input) == ('no'):\n",
    "        print('Hope you enjoy!')\n",
    "        \n",
    "        break\n",
    "        \n",
    "    elif str.lower(user_input) == ('yes'):\n",
    "        \n",
    "        print(final_rec(restrictions))\n",
    "        \n",
    "        user_input = input(\"Thank you for using our service! If you're not satisfied with your choice, \" \\\n",
    "                       \"would you like to choose a new one? If so, type 'yes'. If no, type 'no': \")\n",
    "        \n",
    "    else:\n",
    "        user_input = input(\"Sorry, could not recognize what you typed. Based upon the previous \" \\\n",
    "                           \"question, please answer 'yes' or 'no': \")"
   ]
  },
  {
   "cell_type": "code",
   "execution_count": null,
   "metadata": {},
   "outputs": [],
   "source": []
  }
 ],
 "metadata": {
  "kernelspec": {
   "display_name": "Python 3",
   "language": "python",
   "name": "python3"
  },
  "language_info": {
   "codemirror_mode": {
    "name": "ipython",
    "version": 3
   },
   "file_extension": ".py",
   "mimetype": "text/x-python",
   "name": "python",
   "nbconvert_exporter": "python",
   "pygments_lexer": "ipython3",
   "version": "3.7.3"
  }
 },
 "nbformat": 4,
 "nbformat_minor": 2
}
